{
 "cells": [
  {
   "cell_type": "code",
   "execution_count": 59,
   "id": "d559baf7",
   "metadata": {},
   "outputs": [],
   "source": [
    "# Importing necessary libraries\n",
    "import pandas as pd\n",
    "import numpy as np\n",
    "import matplotlib.pyplot as plt\n",
    "import seaborn as sns\n",
    "from sklearn.model_selection import train_test_split\n",
    "from sklearn.ensemble import RandomForestClassifier\n",
    "from sklearn.metrics import classification_report, roc_auc_score\n",
    "from sklearn.metrics import accuracy_score, precision_score \n",
    "from sklearn.metrics import recall_score, f1_score\n",
    "from imblearn.over_sampling import SMOTE\n",
    "from imblearn.under_sampling import RandomUnderSampler\n",
    "from imblearn.combine import SMOTEENN\n",
    "from imblearn.under_sampling import TomekLinks\n",
    "from sklearn.utils.class_weight import compute_class_weight "
   ]
  },
  {
   "cell_type": "code",
   "execution_count": 60,
   "id": "ffec59aa",
   "metadata": {},
   "outputs": [],
   "source": [
    "# Load dataset (update the path to your dataset)\n",
    "url= 'glass.csv'\n",
    "df = pd.read_csv(url) "
   ]
  },
  {
   "cell_type": "code",
   "execution_count": 61,
   "id": "1c8f519f",
   "metadata": {},
   "outputs": [
    {
     "data": {
      "text/html": [
       "<div>\n",
       "<style scoped>\n",
       "    .dataframe tbody tr th:only-of-type {\n",
       "        vertical-align: middle;\n",
       "    }\n",
       "\n",
       "    .dataframe tbody tr th {\n",
       "        vertical-align: top;\n",
       "    }\n",
       "\n",
       "    .dataframe thead th {\n",
       "        text-align: right;\n",
       "    }\n",
       "</style>\n",
       "<table border=\"1\" class=\"dataframe\">\n",
       "  <thead>\n",
       "    <tr style=\"text-align: right;\">\n",
       "      <th></th>\n",
       "      <th>RI</th>\n",
       "      <th>Na</th>\n",
       "      <th>Mg</th>\n",
       "      <th>Al</th>\n",
       "      <th>Si</th>\n",
       "      <th>K</th>\n",
       "      <th>Ca</th>\n",
       "      <th>Ba</th>\n",
       "      <th>Fe</th>\n",
       "      <th>Type</th>\n",
       "    </tr>\n",
       "  </thead>\n",
       "  <tbody>\n",
       "    <tr>\n",
       "      <th>0</th>\n",
       "      <td>1.52101</td>\n",
       "      <td>13.64</td>\n",
       "      <td>4.49</td>\n",
       "      <td>1.10</td>\n",
       "      <td>71.78</td>\n",
       "      <td>0.06</td>\n",
       "      <td>8.75</td>\n",
       "      <td>0.0</td>\n",
       "      <td>0.0</td>\n",
       "      <td>1</td>\n",
       "    </tr>\n",
       "    <tr>\n",
       "      <th>1</th>\n",
       "      <td>1.51761</td>\n",
       "      <td>13.89</td>\n",
       "      <td>3.60</td>\n",
       "      <td>1.36</td>\n",
       "      <td>72.73</td>\n",
       "      <td>0.48</td>\n",
       "      <td>7.83</td>\n",
       "      <td>0.0</td>\n",
       "      <td>0.0</td>\n",
       "      <td>1</td>\n",
       "    </tr>\n",
       "    <tr>\n",
       "      <th>2</th>\n",
       "      <td>1.51618</td>\n",
       "      <td>13.53</td>\n",
       "      <td>3.55</td>\n",
       "      <td>1.54</td>\n",
       "      <td>72.99</td>\n",
       "      <td>0.39</td>\n",
       "      <td>7.78</td>\n",
       "      <td>0.0</td>\n",
       "      <td>0.0</td>\n",
       "      <td>1</td>\n",
       "    </tr>\n",
       "    <tr>\n",
       "      <th>3</th>\n",
       "      <td>1.51766</td>\n",
       "      <td>13.21</td>\n",
       "      <td>3.69</td>\n",
       "      <td>1.29</td>\n",
       "      <td>72.61</td>\n",
       "      <td>0.57</td>\n",
       "      <td>8.22</td>\n",
       "      <td>0.0</td>\n",
       "      <td>0.0</td>\n",
       "      <td>1</td>\n",
       "    </tr>\n",
       "    <tr>\n",
       "      <th>4</th>\n",
       "      <td>1.51742</td>\n",
       "      <td>13.27</td>\n",
       "      <td>3.62</td>\n",
       "      <td>1.24</td>\n",
       "      <td>73.08</td>\n",
       "      <td>0.55</td>\n",
       "      <td>8.07</td>\n",
       "      <td>0.0</td>\n",
       "      <td>0.0</td>\n",
       "      <td>1</td>\n",
       "    </tr>\n",
       "  </tbody>\n",
       "</table>\n",
       "</div>"
      ],
      "text/plain": [
       "        RI     Na    Mg    Al     Si     K    Ca   Ba   Fe  Type\n",
       "0  1.52101  13.64  4.49  1.10  71.78  0.06  8.75  0.0  0.0     1\n",
       "1  1.51761  13.89  3.60  1.36  72.73  0.48  7.83  0.0  0.0     1\n",
       "2  1.51618  13.53  3.55  1.54  72.99  0.39  7.78  0.0  0.0     1\n",
       "3  1.51766  13.21  3.69  1.29  72.61  0.57  8.22  0.0  0.0     1\n",
       "4  1.51742  13.27  3.62  1.24  73.08  0.55  8.07  0.0  0.0     1"
      ]
     },
     "execution_count": 61,
     "metadata": {},
     "output_type": "execute_result"
    }
   ],
   "source": [
    "df.head()"
   ]
  },
  {
   "cell_type": "code",
   "execution_count": 62,
   "id": "fa251f36",
   "metadata": {},
   "outputs": [
    {
     "name": "stdout",
     "output_type": "stream",
     "text": [
      "<class 'pandas.core.frame.DataFrame'>\n",
      "RangeIndex: 214 entries, 0 to 213\n",
      "Data columns (total 10 columns):\n",
      " #   Column  Non-Null Count  Dtype  \n",
      "---  ------  --------------  -----  \n",
      " 0   RI      214 non-null    float64\n",
      " 1   Na      214 non-null    float64\n",
      " 2   Mg      214 non-null    float64\n",
      " 3   Al      214 non-null    float64\n",
      " 4   Si      214 non-null    float64\n",
      " 5   K       214 non-null    float64\n",
      " 6   Ca      214 non-null    float64\n",
      " 7   Ba      214 non-null    float64\n",
      " 8   Fe      214 non-null    float64\n",
      " 9   Type    214 non-null    int64  \n",
      "dtypes: float64(9), int64(1)\n",
      "memory usage: 16.8 KB\n",
      "None\n",
      "Type\n",
      "2    76\n",
      "1    70\n",
      "7    29\n",
      "3    17\n",
      "5    13\n",
      "6     9\n",
      "Name: count, dtype: int64\n"
     ]
    }
   ],
   "source": [
    "import matplotlib.pyplot as plt\n",
    "import seaborn as sns\n",
    "\n",
    "# Display basic information about the dataset\n",
    "print(df.info())\n",
    "print(df['Type'].value_counts())"
   ]
  },
  {
   "cell_type": "code",
   "execution_count": 63,
   "id": "b46aad58",
   "metadata": {},
   "outputs": [
    {
     "name": "stderr",
     "output_type": "stream",
     "text": [
      "C:\\Users\\jayme\\AppData\\Local\\Temp\\ipykernel_8568\\2330139275.py:3: FutureWarning: \n",
      "\n",
      "Passing `palette` without assigning `hue` is deprecated and will be removed in v0.14.0. Assign the `x` variable to `hue` and set `legend=False` for the same effect.\n",
      "\n",
      "  sns.countplot(x='Type', data=df, palette='viridis')\n"
     ]
    },
    {
     "data": {
      "image/png": "[encoded data removed]",
      "text/plain": [
       "<Figure size 600x400 with 1 Axes>"
      ]
     },
     "metadata": {},
     "output_type": "display_data"
    }
   ],
   "source": [
    "# 1. Plot the class distribution to show imbalance\n",
    "plt.figure(figsize=(6, 4))\n",
    "sns.countplot(x='Type', data=df, palette='viridis')\n",
    "plt.title('Type Distribution in the Dataset')\n",
    "plt.xlabel('Type')\n",
    "plt.ylabel('Count')\n",
    "plt.show()"
   ]
  },
  {
   "cell_type": "code",
   "execution_count": 64,
   "id": "cefe4416",
   "metadata": {},
   "outputs": [
    {
     "data": {
      "image/png": "[encoded data removed]",
      "text/plain": [
       "<Figure size 600x600 with 1 Axes>"
      ]
     },
     "metadata": {},
     "output_type": "display_data"
    }
   ],
   "source": [
    "# 2. Plot a pie chart to visualize class proportions\n",
    "plt.figure(figsize=(6, 6))\n",
    "class_counts = df['Type'].value_counts()\n",
    "plt.pie(class_counts, labels=class_counts.index, autopct='%1.1f%%', startangle=90)\n",
    "plt.title('type Proportion in the Dataset')\n",
    "plt.show()"
   ]
  },
  {
   "cell_type": "code",
   "execution_count": 65,
   "id": "d95d14f4",
   "metadata": {},
   "outputs": [],
   "source": [
    "# Features and Target\n",
    "X = df.drop('Type', axis=1)\n",
    "y = df['Type']\n",
    "\n",
    "# Train-Test Split\n",
    "X_train, X_test, y_train, y_test = train_test_split(X, y, test_size=0.3, random_state=42, stratify=y)\n"
   ]
  },
  {
   "cell_type": "code",
   "execution_count": 66,
   "id": "412d00e5",
   "metadata": {},
   "outputs": [],
   "source": [
    "# Random Under Sampling\n",
    "rus = RandomUnderSampler(random_state=42)\n",
    "X_rus, y_rus = rus.fit_resample(X_train, y_train) "
   ]
  },
  {
   "cell_type": "code",
   "execution_count": 67,
   "id": "941913e8",
   "metadata": {},
   "outputs": [],
   "source": [
    "# Random Over Sampling\n",
    "from imblearn.over_sampling import RandomOverSampler\n",
    "ros = RandomOverSampler(random_state=42)\n",
    "X_ros, y_ros = ros.fit_resample(X_train, y_train) "
   ]
  },
  {
   "cell_type": "code",
   "execution_count": 68,
   "id": "b395abfe",
   "metadata": {},
   "outputs": [],
   "source": [
    "# SMOTE\n",
    "smote = SMOTE(random_state=42)\n",
    "X_smote, y_smote = smote.fit_resample(X_train, y_train) "
   ]
  },
  {
   "cell_type": "code",
   "execution_count": 69,
   "id": "e2d19343",
   "metadata": {},
   "outputs": [],
   "source": [
    "# Tomek Links\n",
    "tl = TomekLinks()\n",
    "X_tl, y_tl = tl.fit_resample(X_train, y_train) "
   ]
  },
  {
   "cell_type": "code",
   "execution_count": 70,
   "id": "7140191c",
   "metadata": {},
   "outputs": [],
   "source": [
    "# Class Weights\n",
    "class_weights = compute_class_weight(class_weight='balanced', classes=np.unique(y_train), y=y_train)\n",
    "class_weights_dict = dict(zip(np.unique(y_train), class_weights))"
   ]
  },
  {
   "cell_type": "code",
   "execution_count": 71,
   "id": "672c0cb4",
   "metadata": {},
   "outputs": [],
   "source": [
    "# Function to evaluate model performance\n",
    "def evaluate_model(X_train, y_train, X_test, y_test, class_weights=None):\n",
    "    model = RandomForestClassifier(class_weight=class_weights, random_state=42)\n",
    "    model.fit(X_train, y_train)\n",
    "    y_pred = model.predict(X_test)\n",
    "    y_prob = model.predict_proba(X_test)\n",
    "    \n",
    "    print(classification_report(y_test, y_pred))\n",
    "    auc = roc_auc_score(y_test, y_prob, multi_class='ovr', average='weighted')\n",
    "    print(\"AUC Score:\", auc)\n",
    "\n",
    "    return {\n",
    "        'Accuracy': accuracy_score(y_test, y_pred),\n",
    "        'Precision': precision_score(y_test, y_pred, average='weighted', zero_division=0),\n",
    "        'Recall': recall_score(y_test, y_pred, average='weighted', zero_division=0),\n",
    "        'F1-Score': f1_score(y_test, y_pred, average='weighted', zero_division=0),\n",
    "        'AUC': roc_auc_score(y_test, y_prob, multi_class='ovr', average='weighted')\n",
    "    }\n"
   ]
  },
  {
   "cell_type": "code",
   "execution_count": 72,
   "id": "b4e25fdd",
   "metadata": {},
   "outputs": [
    {
     "name": "stdout",
     "output_type": "stream",
     "text": [
      "Random Undersampling:\n",
      "              precision    recall  f1-score   support\n",
      "\n",
      "           1       0.77      0.48      0.59        21\n",
      "           2       0.91      0.43      0.59        23\n",
      "           3       0.21      0.80      0.33         5\n",
      "           5       0.50      1.00      0.67         4\n",
      "           6       0.60      1.00      0.75         3\n",
      "           7       1.00      1.00      1.00         9\n",
      "\n",
      "    accuracy                           0.62        65\n",
      "   macro avg       0.66      0.79      0.65        65\n",
      "weighted avg       0.78      0.62      0.64        65\n",
      "\n",
      "AUC Score: 0.8228264503872649\n",
      "\n",
      "Random Oversampling:\n",
      "              precision    recall  f1-score   support\n",
      "\n",
      "           1       0.90      0.90      0.90        21\n",
      "           2       0.89      0.74      0.81        23\n",
      "           3       0.50      0.60      0.55         5\n",
      "           5       0.67      1.00      0.80         4\n",
      "           6       0.75      1.00      0.86         3\n",
      "           7       0.89      0.89      0.89         9\n",
      "\n",
      "    accuracy                           0.83        65\n",
      "   macro avg       0.77      0.86      0.80        65\n",
      "weighted avg       0.85      0.83      0.83        65\n",
      "\n",
      "AUC Score: 0.9489224709716514\n",
      "\n",
      "SMOTE:\n",
      "              precision    recall  f1-score   support\n",
      "\n",
      "           1       0.83      0.90      0.86        21\n",
      "           2       0.90      0.78      0.84        23\n",
      "           3       0.40      0.40      0.40         5\n",
      "           5       0.80      1.00      0.89         4\n",
      "           6       0.75      1.00      0.86         3\n",
      "           7       1.00      0.89      0.94         9\n",
      "\n",
      "    accuracy                           0.83        65\n",
      "   macro avg       0.78      0.83      0.80        65\n",
      "weighted avg       0.84      0.83      0.83        65\n",
      "\n",
      "AUC Score: 0.9366691641691641\n",
      "\n",
      "Tomek Links:\n",
      "              precision    recall  f1-score   support\n",
      "\n",
      "           1       0.79      0.90      0.84        21\n",
      "           2       0.82      0.78      0.80        23\n",
      "           3       1.00      0.40      0.57         5\n",
      "           5       0.33      0.25      0.29         4\n",
      "           6       0.75      1.00      0.86         3\n",
      "           7       0.80      0.89      0.84         9\n",
      "\n",
      "    accuracy                           0.78        65\n",
      "   macro avg       0.75      0.70      0.70        65\n",
      "weighted avg       0.79      0.78      0.77        65\n",
      "\n",
      "AUC Score: 0.9250052406609783\n",
      "\n",
      "Class Weights:\n",
      "              precision    recall  f1-score   support\n",
      "\n",
      "           1       0.79      0.90      0.84        21\n",
      "           2       0.90      0.78      0.84        23\n",
      "           3       0.67      0.40      0.50         5\n",
      "           5       0.67      1.00      0.80         4\n",
      "           6       0.75      1.00      0.86         3\n",
      "           7       1.00      0.89      0.94         9\n",
      "\n",
      "    accuracy                           0.83        65\n",
      "   macro avg       0.80      0.83      0.80        65\n",
      "weighted avg       0.84      0.83      0.83        65\n",
      "\n",
      "AUC Score: 0.946443720214212\n"
     ]
    },
    {
     "data": {
      "text/plain": [
       "{'Accuracy': 0.8307692307692308,\n",
       " 'Precision': 0.8396153846153847,\n",
       " 'Recall': 0.8307692307692308,\n",
       " 'F1-Score': 0.8266332937468368,\n",
       " 'AUC': np.float64(0.946443720214212)}"
      ]
     },
     "execution_count": 72,
     "metadata": {},
     "output_type": "execute_result"
    }
   ],
   "source": [
    "# Evaluate each sampling technique\n",
    "print(\"Random Undersampling:\")\n",
    "evaluate_model(X_rus, y_rus, X_test, y_test)\n",
    "\n",
    "print(\"\\nRandom Oversampling:\")\n",
    "evaluate_model(X_ros, y_ros, X_test, y_test)\n",
    "\n",
    "print(\"\\nSMOTE:\")\n",
    "evaluate_model(X_smote, y_smote, X_test, y_test)\n",
    "\n",
    "print(\"\\nTomek Links:\")\n",
    "evaluate_model(X_tl, y_tl, X_test, y_test)\n",
    "\n",
    "print(\"\\nClass Weights:\")\n",
    "evaluate_model(X_train, y_train, X_test, y_test, class_weights_dict) "
   ]
  },
  {
   "cell_type": "code",
   "execution_count": 73,
   "id": "09cc835a",
   "metadata": {},
   "outputs": [],
   "source": [
    "# Combine X and y for each sampling method\n",
    "df_rus = pd.concat([X_rus, y_rus], axis=1)\n",
    "df_ros = pd.concat([X_ros, y_ros], axis=1)\n",
    "df_smote = pd.concat([X_smote, y_smote], axis=1)\n",
    "df_tl = pd.concat([X_tl, y_tl], axis=1)\n",
    "\n",
    "# Save to CSV\n",
    "df_rus.to_csv('Random_Undersampling_Balanced.csv', index=False)\n",
    "df_ros.to_csv('Random_Oversampling_Balanced.csv', index=False)\n",
    "df_smote.to_csv('SMOTE_Balanced.csv', index=False)\n",
    "df_tl.to_csv('TOMEK_Links_balanced.csv', index=False)\n"
   ]
  },
  {
   "cell_type": "code",
   "execution_count": 74,
   "id": "654647b6",
   "metadata": {},
   "outputs": [],
   "source": [
    "samplers = {\n",
    "    'Random Undersampling': RandomUnderSampler(random_state=42),\n",
    "    'Random Oversampling': RandomOverSampler(random_state=42),\n",
    "    'SMOTE': SMOTE(random_state=42),\n",
    "    'Tomek Links': TomekLinks()\n",
    "}"
   ]
  },
  {
   "cell_type": "code",
   "execution_count": 75,
   "id": "d425244f",
   "metadata": {},
   "outputs": [
    {
     "name": "stdout",
     "output_type": "stream",
     "text": [
      "              precision    recall  f1-score   support\n",
      "\n",
      "           1       0.77      0.48      0.59        21\n",
      "           2       0.91      0.43      0.59        23\n",
      "           3       0.21      0.80      0.33         5\n",
      "           5       0.50      1.00      0.67         4\n",
      "           6       0.60      1.00      0.75         3\n",
      "           7       1.00      1.00      1.00         9\n",
      "\n",
      "    accuracy                           0.62        65\n",
      "   macro avg       0.66      0.79      0.65        65\n",
      "weighted avg       0.78      0.62      0.64        65\n",
      "\n",
      "AUC Score: 0.8228264503872649\n",
      "              precision    recall  f1-score   support\n",
      "\n",
      "           1       0.90      0.90      0.90        21\n",
      "           2       0.89      0.74      0.81        23\n",
      "           3       0.50      0.60      0.55         5\n",
      "           5       0.67      1.00      0.80         4\n",
      "           6       0.75      1.00      0.86         3\n",
      "           7       0.89      0.89      0.89         9\n",
      "\n",
      "    accuracy                           0.83        65\n",
      "   macro avg       0.77      0.86      0.80        65\n",
      "weighted avg       0.85      0.83      0.83        65\n",
      "\n",
      "AUC Score: 0.9489224709716514\n",
      "              precision    recall  f1-score   support\n",
      "\n",
      "           1       0.83      0.90      0.86        21\n",
      "           2       0.90      0.78      0.84        23\n",
      "           3       0.40      0.40      0.40         5\n",
      "           5       0.80      1.00      0.89         4\n",
      "           6       0.75      1.00      0.86         3\n",
      "           7       1.00      0.89      0.94         9\n",
      "\n",
      "    accuracy                           0.83        65\n",
      "   macro avg       0.78      0.83      0.80        65\n",
      "weighted avg       0.84      0.83      0.83        65\n",
      "\n",
      "AUC Score: 0.9366691641691641\n",
      "              precision    recall  f1-score   support\n",
      "\n",
      "           1       0.79      0.90      0.84        21\n",
      "           2       0.82      0.78      0.80        23\n",
      "           3       1.00      0.40      0.57         5\n",
      "           5       0.33      0.25      0.29         4\n",
      "           6       0.75      1.00      0.86         3\n",
      "           7       0.80      0.89      0.84         9\n",
      "\n",
      "    accuracy                           0.78        65\n",
      "   macro avg       0.75      0.70      0.70        65\n",
      "weighted avg       0.79      0.78      0.77        65\n",
      "\n",
      "AUC Score: 0.9250052406609783\n",
      "              precision    recall  f1-score   support\n",
      "\n",
      "           1       0.79      0.90      0.84        21\n",
      "           2       0.90      0.78      0.84        23\n",
      "           3       0.67      0.40      0.50         5\n",
      "           5       0.67      1.00      0.80         4\n",
      "           6       0.75      1.00      0.86         3\n",
      "           7       1.00      0.89      0.94         9\n",
      "\n",
      "    accuracy                           0.83        65\n",
      "   macro avg       0.80      0.83      0.80        65\n",
      "weighted avg       0.84      0.83      0.83        65\n",
      "\n",
      "AUC Score: 0.946443720214212\n",
      "\n",
      "Comparison Table of Model Performance:\n",
      "\n",
      "                      Accuracy  Precision    Recall  F1-Score       AUC\n",
      "Random Undersampling  0.615385   0.783316  0.615385  0.637934  0.822826\n",
      "Random Oversampling   0.830769   0.846086  0.830769  0.832581  0.948922\n",
      "SMOTE                 0.830769   0.838428  0.830769  0.830612  0.936669\n",
      "Tomek Links           0.784615   0.788100  0.784615  0.773596  0.925005\n",
      "Class Weights         0.830769   0.839615  0.830769  0.826633  0.946444\n"
     ]
    }
   ],
   "source": [
    "results = {}\n",
    "\n",
    "for name, sampler in samplers.items():\n",
    "    X_res, y_res = sampler.fit_resample(X_train, y_train)\n",
    "    result = evaluate_model(X_res, y_res, X_test, y_test)\n",
    "    results[name] = result\n",
    "    # Save balanced datasets\n",
    "    balanced_df = pd.concat([X_res, y_res], axis=1)\n",
    "    balanced_df.to_csv(f'{name.replace(\" \", \"_\")}_Balanced.csv', index=False)\n",
    "\n",
    "# Evaluate Class Weight Method\n",
    "results['Class Weights'] = evaluate_model(X_train, y_train, X_test, y_test, class_weights_dict)\n",
    "\n",
    "# Store Results in DataFrame\n",
    "comparison_df = pd.DataFrame(results).T\n",
    "print(\"\\nComparison Table of Model Performance:\\n\")\n",
    "print(comparison_df)\n",
    "\n",
    "# Save Comparison Table\n",
    "comparison_df.to_csv('Sampling_Techniques_Comparison.csv')\n"
   ]
  },
  {
   "cell_type": "code",
   "execution_count": null,
   "id": "3049b635",
   "metadata": {},
   "outputs": [],
   "source": []
  }
 ],
 "metadata": {
  "kernelspec": {
   "display_name": "Python 3",
   "language": "python",
   "name": "python3"
  },
  "language_info": {
   "codemirror_mode": {
    "name": "ipython",
    "version": 3
   },
   "file_extension": ".py",
   "mimetype": "text/x-python",
   "name": "python",
   "nbconvert_exporter": "python",
   "pygments_lexer": "ipython3",
   "version": "3.13.2"
  }
 },
 "nbformat": 4,
 "nbformat_minor": 5
}
